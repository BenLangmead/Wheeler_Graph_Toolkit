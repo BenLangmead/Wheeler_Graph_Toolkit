{
 "cells": [
  {
   "cell_type": "code",
   "execution_count": 1,
   "metadata": {},
   "outputs": [],
   "source": [
    "import sys\n",
    "import networkx as nx\n",
    "from networkx.drawing.nx_pydot import read_dot\n",
    "from networkx.drawing.nx_agraph import graphviz_layout\n",
    "import os\n",
    "from matplotlib import pyplot as plt\n"
   ]
  },
  {
   "cell_type": "code",
   "execution_count": 2,
   "metadata": {},
   "outputs": [
    {
     "data": {
      "image/png": "[encoded data removed]",
      "text/plain": [
       "<Figure size 432x288 with 1 Axes>"
      ]
     },
     "metadata": {},
     "output_type": "display_data"
    }
   ],
   "source": [
    "g = nx.DiGraph(read_dot(\"./graph/g1.dot\"))\n",
    "nx.draw(g, with_labels = True, arrows=True)"
   ]
  },
  {
   "cell_type": "code",
   "execution_count": 3,
   "metadata": {},
   "outputs": [],
   "source": [
    "# g.edges.data()\n",
    "# g['1']['2']['label']"
   ]
  },
  {
   "cell_type": "code",
   "execution_count": 9,
   "metadata": {},
   "outputs": [
    {
     "data": {
      "text/plain": [
       "InDegreeView({'S1': 0, 'S2': 1, 'S3': 2, 'S5': 2, 'S4': 2, 'S8': 2, 'S6': 2, 'S7': 2})"
      ]
     },
     "execution_count": 9,
     "metadata": {},
     "output_type": "execute_result"
    }
   ],
   "source": [
    "g.in_degree"
   ]
  },
  {
   "cell_type": "code",
   "execution_count": 4,
   "metadata": {},
   "outputs": [],
   "source": [
    "def get_target_edges(graph, label):\n",
    "    selected_edges = [(u,v) for u,v,e in graph.edges(data=True) if e['label'] == label]\n",
    "    return selected_edges"
   ]
  },
  {
   "cell_type": "code",
   "execution_count": 5,
   "metadata": {},
   "outputs": [],
   "source": [
    "def get_edge_label(graph):\n",
    "    #     all_edge_dic = [(u,v) for u,v,e in graph.edges(data=True) if e['label'] == label]\n",
    "    all_edge_labels = []\n",
    "    all_edge_dic = {}\n",
    "    for u,v,e in graph.edges(data=True):\n",
    "        if e['label'] not in all_edge_labels:\n",
    "            all_edge_labels.append(e['label'])        \n",
    "            all_edge_dic[e['label']] = [(u,v)]\n",
    "        else: \n",
    "            all_edge_dic[e['label']].append((u,v))\n",
    "#             selected_edges.append((u,v))\n",
    "    print (all_edge_dic)\n",
    "    print (all_edge_labels)\n",
    "    return all_edge_dic, all_edge_labels"
   ]
  },
  {
   "cell_type": "code",
   "execution_count": 6,
   "metadata": {},
   "outputs": [
    {
     "name": "stdout",
     "output_type": "stream",
     "text": [
      "{'a': [('S1', 'S2'), ('S1', 'S3'), ('S2', 'S3'), ('S5', 'S4'), ('S8', 'S4')], 'b': [('S1', 'S5'), ('S3', 'S5'), ('S6', 'S6'), ('S7', 'S6')], 'c': [('S2', 'S7'), ('S5', 'S7'), ('S6', 'S8'), ('S7', 'S8')]}\n",
      "['a', 'b', 'c']\n"
     ]
    }
   ],
   "source": [
    "all_edge_dic, all_edge_labels = get_edge_label(g)"
   ]
  },
  {
   "cell_type": "code",
   "execution_count": 7,
   "metadata": {},
   "outputs": [
    {
     "data": {
      "text/plain": [
       "{'a': [('S1', 'S2'), ('S1', 'S3'), ('S2', 'S3'), ('S5', 'S4'), ('S8', 'S4')],\n",
       " 'b': [('S1', 'S5'), ('S3', 'S5'), ('S6', 'S6'), ('S7', 'S6')],\n",
       " 'c': [('S2', 'S7'), ('S5', 'S7'), ('S6', 'S8'), ('S7', 'S8')]}"
      ]
     },
     "execution_count": 7,
     "metadata": {},
     "output_type": "execute_result"
    }
   ],
   "source": [
    "all_edge_dic"
   ]
  },
  {
   "cell_type": "code",
   "execution_count": 47,
   "metadata": {},
   "outputs": [],
   "source": [
    "def get_in_deg_0_node(graph): \n",
    "    in_deg_0_node_ls = []\n",
    "    for n, in_deg in graph.in_degree:\n",
    "        if in_deg == 0:\n",
    "            in_deg_0_node_ls.append(n)\n",
    "    print(in_deg_0_node_ls)"
   ]
  },
  {
   "cell_type": "code",
   "execution_count": 48,
   "metadata": {},
   "outputs": [],
   "source": [
    "## Initialize the graph"
   ]
  },
  {
   "cell_type": "code",
   "execution_count": 54,
   "metadata": {},
   "outputs": [
    {
     "name": "stdout",
     "output_type": "stream",
     "text": [
      "['S1']\n"
     ]
    }
   ],
   "source": [
    "in_deg_0_node_ls = get_in_deg_0_node(g)"
   ]
  },
  {
   "cell_type": "code",
   "execution_count": 66,
   "metadata": {},
   "outputs": [],
   "source": [
    "mapping = {}\n",
    "acc_edge_len = 0"
   ]
  },
  {
   "cell_type": "code",
   "execution_count": 67,
   "metadata": {},
   "outputs": [
    {
     "name": "stdout",
     "output_type": "stream",
     "text": [
      "('S1', 'S2')\n",
      "('S1', 'S3')\n",
      "('S2', 'S3')\n",
      "('S5', 'S4')\n",
      "('S8', 'S4')\n",
      "('S1', 'S5')\n",
      "('S3', 'S5')\n",
      "('S6', 'S6')\n",
      "('S7', 'S6')\n",
      "('S2', 'S7')\n",
      "('S5', 'S7')\n",
      "('S6', 'S8')\n",
      "('S7', 'S8')\n"
     ]
    }
   ],
   "source": [
    "for edge_label, edges in all_edge_dic.items():\n",
    "#     edge_len = len(edges)\n",
    "    acc_edge_len += len(edges)\n",
    "    for edge in edges:\n",
    "        print(edge)\n",
    "        mapping[edge[1]] = 1+acc_edge_len"
   ]
  },
  {
   "cell_type": "code",
   "execution_count": 68,
   "metadata": {},
   "outputs": [
    {
     "data": {
      "text/plain": [
       "{'S2': 6, 'S3': 6, 'S4': 6, 'S5': 10, 'S6': 10, 'S7': 14, 'S8': 14}"
      ]
     },
     "execution_count": 68,
     "metadata": {},
     "output_type": "execute_result"
    }
   ],
   "source": [
    "mapping"
   ]
  },
  {
   "cell_type": "code",
   "execution_count": 65,
   "metadata": {},
   "outputs": [
    {
     "data": {
      "text/plain": [
       "{'a': [('S1', 'S2'), ('S1', 'S3'), ('S2', 'S3'), ('S5', 'S4'), ('S8', 'S4')],\n",
       " 'b': [('S1', 'S5'), ('S3', 'S5'), ('S6', 'S6'), ('S7', 'S6')],\n",
       " 'c': [('S2', 'S7'), ('S5', 'S7'), ('S6', 'S8'), ('S7', 'S8')]}"
      ]
     },
     "execution_count": 65,
     "metadata": {},
     "output_type": "execute_result"
    }
   ],
   "source": [
    "all_edge_dic"
   ]
  },
  {
   "cell_type": "code",
   "execution_count": null,
   "metadata": {},
   "outputs": [],
   "source": [
    "mapping = {0: \"a\", 1: \"b\"}"
   ]
  },
  {
   "cell_type": "code",
   "execution_count": null,
   "metadata": {},
   "outputs": [],
   "source": [
    "# mapping = {0: \"a\", 1: \"b\"}  # 0->'a' and 1->'b'\n",
    "# G = nx.relabel_nodes(G, mapping, copy=False)\n",
    "# sorted(G, key=str)"
   ]
  },
  {
   "cell_type": "code",
   "execution_count": null,
   "metadata": {},
   "outputs": [],
   "source": []
  },
  {
   "cell_type": "code",
   "execution_count": null,
   "metadata": {},
   "outputs": [],
   "source": []
  },
  {
   "cell_type": "code",
   "execution_count": null,
   "metadata": {},
   "outputs": [],
   "source": []
  },
  {
   "cell_type": "code",
   "execution_count": null,
   "metadata": {},
   "outputs": [],
   "source": []
  },
  {
   "cell_type": "code",
   "execution_count": 17,
   "metadata": {},
   "outputs": [],
   "source": [
    "# g2 = g.edges.data(\"label\", default=\"a\")"
   ]
  },
  {
   "cell_type": "code",
   "execution_count": 24,
   "metadata": {},
   "outputs": [
    {
     "data": {
      "text/plain": [
       "OutEdgeDataView([('1', '2', 'a'), ('1', '3', 'a'), ('1', '5', 'b'), ('2', '3', 'a'), ('2', '7', 'c'), ('3', '5', 'b'), ('5', '4', 'a'), ('5', '7', 'c'), ('8', '4', 'a'), ('6', '6', 'b'), ('6', '8', 'c'), ('7', '6', 'b'), ('7', '8', 'c')])"
      ]
     },
     "execution_count": 24,
     "metadata": {},
     "output_type": "execute_result"
    }
   ],
   "source": [
    "g2"
   ]
  },
  {
   "cell_type": "code",
   "execution_count": 4,
   "metadata": {},
   "outputs": [],
   "source": [
    "pos = graphviz_layout(g, prog='dot')"
   ]
  },
  {
   "cell_type": "code",
   "execution_count": 5,
   "metadata": {},
   "outputs": [
    {
     "data": {
      "image/png": "[encoded data removed]",
      "text/plain": [
       "<Figure size 432x288 with 1 Axes>"
      ]
     },
     "metadata": {},
     "output_type": "display_data"
    }
   ],
   "source": [
    "nx.draw(g, pos, with_labels=True, arrows=True)"
   ]
  },
  {
   "cell_type": "code",
   "execution_count": 7,
   "metadata": {
    "scrolled": false
   },
   "outputs": [],
   "source": [
    "# nx.draw_networkx_edges(g, pos)"
   ]
  },
  {
   "cell_type": "code",
   "execution_count": null,
   "metadata": {},
   "outputs": [],
   "source": []
  },
  {
   "cell_type": "code",
   "execution_count": null,
   "metadata": {},
   "outputs": [],
   "source": []
  },
  {
   "cell_type": "code",
   "execution_count": null,
   "metadata": {},
   "outputs": [],
   "source": []
  },
  {
   "cell_type": "code",
   "execution_count": 31,
   "metadata": {},
   "outputs": [],
   "source": [
    "G = nx.path_graph(3)"
   ]
  },
  {
   "cell_type": "code",
   "execution_count": 32,
   "metadata": {},
   "outputs": [
    {
     "data": {
      "text/plain": [
       "[0, 1, 2]"
      ]
     },
     "execution_count": 32,
     "metadata": {},
     "output_type": "execute_result"
    }
   ],
   "source": [
    "sorted(G)"
   ]
  },
  {
   "cell_type": "code",
   "execution_count": 33,
   "metadata": {
    "scrolled": false
   },
   "outputs": [
    {
     "data": {
      "image/png": "[encoded data removed]",
      "text/plain": [
       "<Figure size 432x288 with 1 Axes>"
      ]
     },
     "metadata": {},
     "output_type": "display_data"
    }
   ],
   "source": [
    "nx.draw(G, with_labels = True, arrows=True)"
   ]
  },
  {
   "cell_type": "code",
   "execution_count": 43,
   "metadata": {},
   "outputs": [],
   "source": [
    "mapping = {0: \"a\", 1: \"1\", 2: \"2\"}\n",
    "# mapping = {0: \"a\"}"
   ]
  },
  {
   "cell_type": "code",
   "execution_count": 44,
   "metadata": {},
   "outputs": [
    {
     "data": {
      "text/plain": [
       "['1', '2', 'a']"
      ]
     },
     "execution_count": 44,
     "metadata": {},
     "output_type": "execute_result"
    }
   ],
   "source": [
    "H = nx.relabel_nodes(G, mapping)\n",
    "sorted(H)"
   ]
  },
  {
   "cell_type": "code",
   "execution_count": 47,
   "metadata": {},
   "outputs": [
    {
     "data": {
      "image/png": "[encoded data removed]",
      "text/plain": [
       "<Figure size 432x288 with 1 Axes>"
      ]
     },
     "metadata": {},
     "output_type": "display_data"
    }
   ],
   "source": [
    "nx.draw(H, with_labels = True, arrows=True)"
   ]
  },
  {
   "cell_type": "code",
   "execution_count": null,
   "metadata": {},
   "outputs": [],
   "source": []
  },
  {
   "cell_type": "code",
   "execution_count": null,
   "metadata": {},
   "outputs": [],
   "source": []
  },
  {
   "cell_type": "code",
   "execution_count": 50,
   "metadata": {},
   "outputs": [],
   "source": [
    "G = nx.path_graph(3)  # nodes 0-1-2"
   ]
  },
  {
   "cell_type": "code",
   "execution_count": 51,
   "metadata": {},
   "outputs": [
    {
     "data": {
      "image/png": "[encoded data removed]",
      "text/plain": [
       "<Figure size 432x288 with 1 Axes>"
      ]
     },
     "metadata": {},
     "output_type": "display_data"
    }
   ],
   "source": [
    "nx.draw(G, with_labels = True, arrows=True)"
   ]
  },
  {
   "cell_type": "code",
   "execution_count": 52,
   "metadata": {},
   "outputs": [
    {
     "data": {
      "text/plain": [
       "[2, 'a', 'b']"
      ]
     },
     "execution_count": 52,
     "metadata": {},
     "output_type": "execute_result"
    }
   ],
   "source": [
    "mapping = {0: \"a\", 1: \"b\"}  # 0->'a' and 1->'b'\n",
    "G = nx.relabel_nodes(G, mapping, copy=False)\n",
    "sorted(G, key=str)"
   ]
  },
  {
   "cell_type": "code",
   "execution_count": 53,
   "metadata": {},
   "outputs": [
    {
     "data": {
      "image/png": "[encoded data removed]",
      "text/plain": [
       "<Figure size 432x288 with 1 Axes>"
      ]
     },
     "metadata": {},
     "output_type": "display_data"
    }
   ],
   "source": [
    "nx.draw(G, with_labels = True, arrows=True)"
   ]
  },
  {
   "cell_type": "code",
   "execution_count": null,
   "metadata": {},
   "outputs": [],
   "source": []
  }
 ],
 "metadata": {
  "kernelspec": {
   "display_name": "Python 3",
   "language": "python",
   "name": "python3"
  },
  "language_info": {
   "codemirror_mode": {
    "name": "ipython",
    "version": 3
   },
   "file_extension": ".py",
   "mimetype": "text/x-python",
   "name": "python",
   "nbconvert_exporter": "python",
   "pygments_lexer": "ipython3",
   "version": "3.8.3"
  }
 },
 "nbformat": 4,
 "nbformat_minor": 4
}
